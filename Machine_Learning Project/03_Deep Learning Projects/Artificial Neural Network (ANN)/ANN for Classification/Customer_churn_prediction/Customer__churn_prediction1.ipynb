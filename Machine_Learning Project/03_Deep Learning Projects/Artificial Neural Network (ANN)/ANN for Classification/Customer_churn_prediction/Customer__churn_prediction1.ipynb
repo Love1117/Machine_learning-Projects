{
  "nbformat": 4,
  "nbformat_minor": 0,
  "metadata": {
    "colab": {
      "provenance": [],
      "authorship_tag": "ABX9TyOhK9/2ZaKeTBRDK5jbXQxF",
      "include_colab_link": true
    },
    "kernelspec": {
      "name": "python3",
      "display_name": "Python 3"
    },
    "language_info": {
      "name": "python"
    }
  },
  "cells": [
    {
      "cell_type": "markdown",
      "metadata": {
        "id": "view-in-github",
        "colab_type": "text"
      },
      "source": [
        "<a href=\"https://colab.research.google.com/github/Love1117/Machine_learning-Projects/blob/main/Machine_Learning%20Project/03_Deep%20Learning%20Projects/Artificial%20Neural%20Network%20(ANN)/ANN%20for%20Classification/Customer_churn_prediction/Customer__churn_prediction1.ipynb\" target=\"_parent\"><img src=\"https://colab.research.google.com/assets/colab-badge.svg\" alt=\"Open In Colab\"/></a>"
      ]
    },
    {
      "cell_type": "markdown",
      "source": [
        "![1000089597.png](data:image/png;base64,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)\n",
        "#**🧠 Customer Churn Prediction using Artificial Neural Network (ANN)**\n",
        "\n",
        "**📘 Overview:**\n",
        "\n",
        "This project uses a Deep Learning Artificial Neural Network (ANN) to predict customer churn — that is, whether a customer is likely to stop using a company’s services. By analyzing historical customer data such as demographics, account information, and usage behavior, the model learns complex patterns that distinguish between customers who stay and those who leave.\n",
        "\n",
        "**🎯 Aim of the Project:**\n",
        "\n",
        "The main aim is to build an intelligent system that predicts customer churn in advance, allowing businesses to take proactive actions such as offering discounts, improving customer service, or launching retention campaigns to reduce customer loss.\n"
      ],
      "metadata": {
        "id": "fG7tJyZeVVdz"
      }
    },
    {
      "cell_type": "markdown",
      "source": [
        "##**Data Loading and exploration**"
      ],
      "metadata": {
        "id": "HWRfScKj1n0Q"
      }
    },
    {
      "cell_type": "code",
      "execution_count": null,
      "metadata": {
        "colab": {
          "base_uri": "https://localhost:8080/",
          "height": 600
        },
        "id": "vTf8-9M-Im_w",
        "outputId": "faaef179-2bfb-4f33-d1bb-5fcff204de6a"
      },
      "outputs": [
        {
          "output_type": "stream",
          "name": "stdout",
          "text": [
            "Drive already mounted at /content/drive; to attempt to forcibly remount, call drive.mount(\"/content/drive\", force_remount=True).\n"
          ]
        },
        {
          "output_type": "execute_result",
          "data": {
            "text/plain": [
              "      customerID  gender  SeniorCitizen Partner Dependents  tenure  \\\n",
              "0     7590-VHVEG  Female              0     Yes         No       1   \n",
              "1     5575-GNVDE    Male              0      No         No      34   \n",
              "2     3668-QPYBK    Male              0      No         No       2   \n",
              "3     7795-CFOCW    Male              0      No         No      45   \n",
              "4     9237-HQITU  Female              0      No         No       2   \n",
              "...          ...     ...            ...     ...        ...     ...   \n",
              "7038  6840-RESVB    Male              0     Yes        Yes      24   \n",
              "7039  2234-XADUH  Female              0     Yes        Yes      72   \n",
              "7040  4801-JZAZL  Female              0     Yes        Yes      11   \n",
              "7041  8361-LTMKD    Male              1     Yes         No       4   \n",
              "7042  3186-AJIEK    Male              0      No         No      66   \n",
              "\n",
              "     PhoneService     MultipleLines InternetService OnlineSecurity  \\\n",
              "0              No  No phone service             DSL             No   \n",
              "1             Yes                No             DSL            Yes   \n",
              "2             Yes                No             DSL            Yes   \n",
              "3              No  No phone service             DSL            Yes   \n",
              "4             Yes                No     Fiber optic             No   \n",
              "...           ...               ...             ...            ...   \n",
              "7038          Yes               Yes             DSL            Yes   \n",
              "7039          Yes               Yes     Fiber optic             No   \n",
              "7040           No  No phone service             DSL            Yes   \n",
              "7041          Yes               Yes     Fiber optic             No   \n",
              "7042          Yes                No     Fiber optic            Yes   \n",
              "\n",
              "     OnlineBackup DeviceProtection TechSupport StreamingTV StreamingMovies  \\\n",
              "0             Yes               No          No          No              No   \n",
              "1              No              Yes          No          No              No   \n",
              "2             Yes               No          No          No              No   \n",
              "3              No              Yes         Yes          No              No   \n",
              "4              No               No          No          No              No   \n",
              "...           ...              ...         ...         ...             ...   \n",
              "7038           No              Yes         Yes         Yes             Yes   \n",
              "7039          Yes              Yes          No         Yes             Yes   \n",
              "7040           No               No          No          No              No   \n",
              "7041           No               No          No          No              No   \n",
              "7042           No              Yes         Yes         Yes             Yes   \n",
              "\n",
              "            Contract PaperlessBilling              PaymentMethod  \\\n",
              "0     Month-to-month              Yes           Electronic check   \n",
              "1           One year               No               Mailed check   \n",
              "2     Month-to-month              Yes               Mailed check   \n",
              "3           One year               No  Bank transfer (automatic)   \n",
              "4     Month-to-month              Yes           Electronic check   \n",
              "...              ...              ...                        ...   \n",
              "7038        One year              Yes               Mailed check   \n",
              "7039        One year              Yes    Credit card (automatic)   \n",
              "7040  Month-to-month              Yes           Electronic check   \n",
              "7041  Month-to-month              Yes               Mailed check   \n",
              "7042        Two year              Yes  Bank transfer (automatic)   \n",
              "\n",
              "      MonthlyCharges TotalCharges Churn  \n",
              "0              29.85        29.85    No  \n",
              "1              56.95       1889.5    No  \n",
              "2              53.85       108.15   Yes  \n",
              "3              42.30      1840.75    No  \n",
              "4              70.70       151.65   Yes  \n",
              "...              ...          ...   ...  \n",
              "7038           84.80       1990.5    No  \n",
              "7039          103.20       7362.9    No  \n",
              "7040           29.60       346.45    No  \n",
              "7041           74.40        306.6   Yes  \n",
              "7042          105.65       6844.5    No  \n",
              "\n",
              "[7043 rows x 21 columns]"
            ],
            "text/html": [
              "\n",
              "  <div id=\"df-a46052e6-a439-4ae9-be86-87cdea8e1775\" class=\"colab-df-container\">\n",
              "    <div>\n",
              "<style scoped>\n",
              "    .dataframe tbody tr th:only-of-type {\n",
              "        vertical-align: middle;\n",
              "    }\n",
              "\n",
              "    .dataframe tbody tr th {\n",
              "        vertical-align: top;\n",
              "    }\n",
              "\n",
              "    .dataframe thead th {\n",
              "        text-align: right;\n",
              "    }\n",
              "</style>\n",
              "<table border=\"1\" class=\"dataframe\">\n",
              "  <thead>\n",
              "    <tr style=\"text-align: right;\">\n",
              "      <th></th>\n",
              "      <th>customerID</th>\n",
              "      <th>gender</th>\n",
              "      <th>SeniorCitizen</th>\n",
              "      <th>Partner</th>\n",
              "      <th>Dependents</th>\n",
              "      <th>tenure</th>\n",
              "      <th>PhoneService</th>\n",
              "      <th>MultipleLines</th>\n",
              "      <th>InternetService</th>\n",
              "      <th>OnlineSecurity</th>\n",
              "      <th>OnlineBackup</th>\n",
              "      <th>DeviceProtection</th>\n",
              "      <th>TechSupport</th>\n",
              "      <th>StreamingTV</th>\n",
              "      <th>StreamingMovies</th>\n",
              "      <th>Contract</th>\n",
              "      <th>PaperlessBilling</th>\n",
              "      <th>PaymentMethod</th>\n",
              "      <th>MonthlyCharges</th>\n",
              "      <th>TotalCharges</th>\n",
              "      <th>Churn</th>\n",
              "    </tr>\n",
              "  </thead>\n",
              "  <tbody>\n",
              "    <tr>\n",
              "      <th>0</th>\n",
              "      <td>7590-VHVEG</td>\n",
              "      <td>Female</td>\n",
              "      <td>0</td>\n",
              "      <td>Yes</td>\n",
              "      <td>No</td>\n",
              "      <td>1</td>\n",
              "      <td>No</td>\n",
              "      <td>No phone service</td>\n",
              "      <td>DSL</td>\n",
              "      <td>No</td>\n",
              "      <td>Yes</td>\n",
              "      <td>No</td>\n",
              "      <td>No</td>\n",
              "      <td>No</td>\n",
              "      <td>No</td>\n",
              "      <td>Month-to-month</td>\n",
              "      <td>Yes</td>\n",
              "      <td>Electronic check</td>\n",
              "      <td>29.85</td>\n",
              "      <td>29.85</td>\n",
              "      <td>No</td>\n",
              "    </tr>\n",
              "    <tr>\n",
              "      <th>1</th>\n",
              "      <td>5575-GNVDE</td>\n",
              "      <td>Male</td>\n",
              "      <td>0</td>\n",
              "      <td>No</td>\n",
              "      <td>No</td>\n",
              "      <td>34</td>\n",
              "      <td>Yes</td>\n",
              "      <td>No</td>\n",
              "      <td>DSL</td>\n",
              "      <td>Yes</td>\n",
              "      <td>No</td>\n",
              "      <td>Yes</td>\n",
              "      <td>No</td>\n",
              "      <td>No</td>\n",
              "      <td>No</td>\n",
              "      <td>One year</td>\n",
              "      <td>No</td>\n",
              "      <td>Mailed check</td>\n",
              "      <td>56.95</td>\n",
              "      <td>1889.5</td>\n",
              "      <td>No</td>\n",
              "    </tr>\n",
              "    <tr>\n",
              "      <th>2</th>\n",
              "      <td>3668-QPYBK</td>\n",
              "      <td>Male</td>\n",
              "      <td>0</td>\n",
              "      <td>No</td>\n",
              "      <td>No</td>\n",
              "      <td>2</td>\n",
              "      <td>Yes</td>\n",
              "      <td>No</td>\n",
              "      <td>DSL</td>\n",
              "      <td>Yes</td>\n",
              "      <td>Yes</td>\n",
              "      <td>No</td>\n",
              "      <td>No</td>\n",
              "      <td>No</td>\n",
              "      <td>No</td>\n",
              "      <td>Month-to-month</td>\n",
              "      <td>Yes</td>\n",
              "      <td>Mailed check</td>\n",
              "      <td>53.85</td>\n",
              "      <td>108.15</td>\n",
              "      <td>Yes</td>\n",
              "    </tr>\n",
              "    <tr>\n",
              "      <th>3</th>\n",
              "      <td>7795-CFOCW</td>\n",
              "      <td>Male</td>\n",
              "      <td>0</td>\n",
              "      <td>No</td>\n",
              "      <td>No</td>\n",
              "      <td>45</td>\n",
              "      <td>No</td>\n",
              "      <td>No phone service</td>\n",
              "      <td>DSL</td>\n",
              "      <td>Yes</td>\n",
              "      <td>No</td>\n",
              "      <td>Yes</td>\n",
              "      <td>Yes</td>\n",
              "      <td>No</td>\n",
              "      <td>No</td>\n",
              "      <td>One year</td>\n",
              "      <td>No</td>\n",
              "      <td>Bank transfer (automatic)</td>\n",
              "      <td>42.30</td>\n",
              "      <td>1840.75</td>\n",
              "      <td>No</td>\n",
              "    </tr>\n",
              "    <tr>\n",
              "      <th>4</th>\n",
              "      <td>9237-HQITU</td>\n",
              "      <td>Female</td>\n",
              "      <td>0</td>\n",
              "      <td>No</td>\n",
              "      <td>No</td>\n",
              "      <td>2</td>\n",
              "      <td>Yes</td>\n",
              "      <td>No</td>\n",
              "      <td>Fiber optic</td>\n",
              "      <td>No</td>\n",
              "      <td>No</td>\n",
              "      <td>No</td>\n",
              "      <td>No</td>\n",
              "      <td>No</td>\n",
              "      <td>No</td>\n",
              "      <td>Month-to-month</td>\n",
              "      <td>Yes</td>\n",
              "      <td>Electronic check</td>\n",
              "      <td>70.70</td>\n",
              "      <td>151.65</td>\n",
              "      <td>Yes</td>\n",
              "    </tr>\n",
              "    <tr>\n",
              "      <th>...</th>\n",
              "      <td>...</td>\n",
              "      <td>...</td>\n",
              "      <td>...</td>\n",
              "      <td>...</td>\n",
              "      <td>...</td>\n",
              "      <td>...</td>\n",
              "      <td>...</td>\n",
              "      <td>...</td>\n",
              "      <td>...</td>\n",
              "      <td>...</td>\n",
              "      <td>...</td>\n",
              "      <td>...</td>\n",
              "      <td>...</td>\n",
              "      <td>...</td>\n",
              "      <td>...</td>\n",
              "      <td>...</td>\n",
              "      <td>...</td>\n",
              "      <td>...</td>\n",
              "      <td>...</td>\n",
              "      <td>...</td>\n",
              "      <td>...</td>\n",
              "    </tr>\n",
              "    <tr>\n",
              "      <th>7038</th>\n",
              "      <td>6840-RESVB</td>\n",
              "      <td>Male</td>\n",
              "      <td>0</td>\n",
              "      <td>Yes</td>\n",
              "      <td>Yes</td>\n",
              "      <td>24</td>\n",
              "      <td>Yes</td>\n",
              "      <td>Yes</td>\n",
              "      <td>DSL</td>\n",
              "      <td>Yes</td>\n",
              "      <td>No</td>\n",
              "      <td>Yes</td>\n",
              "      <td>Yes</td>\n",
              "      <td>Yes</td>\n",
              "      <td>Yes</td>\n",
              "      <td>One year</td>\n",
              "      <td>Yes</td>\n",
              "      <td>Mailed check</td>\n",
              "      <td>84.80</td>\n",
              "      <td>1990.5</td>\n",
              "      <td>No</td>\n",
              "    </tr>\n",
              "    <tr>\n",
              "      <th>7039</th>\n",
              "      <td>2234-XADUH</td>\n",
              "      <td>Female</td>\n",
              "      <td>0</td>\n",
              "      <td>Yes</td>\n",
              "      <td>Yes</td>\n",
              "      <td>72</td>\n",
              "      <td>Yes</td>\n",
              "      <td>Yes</td>\n",
              "      <td>Fiber optic</td>\n",
              "      <td>No</td>\n",
              "      <td>Yes</td>\n",
              "      <td>Yes</td>\n",
              "      <td>No</td>\n",
              "      <td>Yes</td>\n",
              "      <td>Yes</td>\n",
              "      <td>One year</td>\n",
              "      <td>Yes</td>\n",
              "      <td>Credit card (automatic)</td>\n",
              "      <td>103.20</td>\n",
              "      <td>7362.9</td>\n",
              "      <td>No</td>\n",
              "    </tr>\n",
              "    <tr>\n",
              "      <th>7040</th>\n",
              "      <td>4801-JZAZL</td>\n",
              "      <td>Female</td>\n",
              "      <td>0</td>\n",
              "      <td>Yes</td>\n",
              "      <td>Yes</td>\n",
              "      <td>11</td>\n",
              "      <td>No</td>\n",
              "      <td>No phone service</td>\n",
              "      <td>DSL</td>\n",
              "      <td>Yes</td>\n",
              "      <td>No</td>\n",
              "      <td>No</td>\n",
              "      <td>No</td>\n",
              "      <td>No</td>\n",
              "      <td>No</td>\n",
              "      <td>Month-to-month</td>\n",
              "      <td>Yes</td>\n",
              "      <td>Electronic check</td>\n",
              "      <td>29.60</td>\n",
              "      <td>346.45</td>\n",
              "      <td>No</td>\n",
              "    </tr>\n",
              "    <tr>\n",
              "      <th>7041</th>\n",
              "      <td>8361-LTMKD</td>\n",
              "      <td>Male</td>\n",
              "      <td>1</td>\n",
              "      <td>Yes</td>\n",
              "      <td>No</td>\n",
              "      <td>4</td>\n",
              "      <td>Yes</td>\n",
              "      <td>Yes</td>\n",
              "      <td>Fiber optic</td>\n",
              "      <td>No</td>\n",
              "      <td>No</td>\n",
              "      <td>No</td>\n",
              "      <td>No</td>\n",
              "      <td>No</td>\n",
              "      <td>No</td>\n",
              "      <td>Month-to-month</td>\n",
              "      <td>Yes</td>\n",
              "      <td>Mailed check</td>\n",
              "      <td>74.40</td>\n",
              "      <td>306.6</td>\n",
              "      <td>Yes</td>\n",
              "    </tr>\n",
              "    <tr>\n",
              "      <th>7042</th>\n",
              "      <td>3186-AJIEK</td>\n",
              "      <td>Male</td>\n",
              "      <td>0</td>\n",
              "      <td>No</td>\n",
              "      <td>No</td>\n",
              "      <td>66</td>\n",
              "      <td>Yes</td>\n",
              "      <td>No</td>\n",
              "      <td>Fiber optic</td>\n",
              "      <td>Yes</td>\n",
              "      <td>No</td>\n",
              "      <td>Yes</td>\n",
              "      <td>Yes</td>\n",
              "      <td>Yes</td>\n",
              "      <td>Yes</td>\n",
              "      <td>Two year</td>\n",
              "      <td>Yes</td>\n",
              "      <td>Bank transfer (automatic)</td>\n",
              "      <td>105.65</td>\n",
              "      <td>6844.5</td>\n",
              "      <td>No</td>\n",
              "    </tr>\n",
              "  </tbody>\n",
              "</table>\n",
              "<p>7043 rows × 21 columns</p>\n",
              "</div>\n",
              "    <div class=\"colab-df-buttons\">\n",
              "\n",
              "  <div class=\"colab-df-container\">\n",
              "    <button class=\"colab-df-convert\" onclick=\"convertToInteractive('df-a46052e6-a439-4ae9-be86-87cdea8e1775')\"\n",
              "            title=\"Convert this dataframe to an interactive table.\"\n",
              "            style=\"display:none;\">\n",
              "\n",
              "  <svg xmlns=\"http://www.w3.org/2000/svg\" height=\"24px\" viewBox=\"0 -960 960 960\">\n",
              "    <path d=\"M120-120v-720h720v720H120Zm60-500h600v-160H180v160Zm220 220h160v-160H400v160Zm0 220h160v-160H400v160ZM180-400h160v-160H180v160Zm440 0h160v-160H620v160ZM180-180h160v-160H180v160Zm440 0h160v-160H620v160Z\"/>\n",
              "  </svg>\n",
              "    </button>\n",
              "\n",
              "  <style>\n",
              "    .colab-df-container {\n",
              "      display:flex;\n",
              "      gap: 12px;\n",
              "    }\n",
              "\n",
              "    .colab-df-convert {\n",
              "      background-color: #E8F0FE;\n",
              "      border: none;\n",
              "      border-radius: 50%;\n",
              "      cursor: pointer;\n",
              "      display: none;\n",
              "      fill: #1967D2;\n",
              "      height: 32px;\n",
              "      padding: 0 0 0 0;\n",
              "      width: 32px;\n",
              "    }\n",
              "\n",
              "    .colab-df-convert:hover {\n",
              "      background-color: #E2EBFA;\n",
              "      box-shadow: 0px 1px 2px rgba(60, 64, 67, 0.3), 0px 1px 3px 1px rgba(60, 64, 67, 0.15);\n",
              "      fill: #174EA6;\n",
              "    }\n",
              "\n",
              "    .colab-df-buttons div {\n",
              "      margin-bottom: 4px;\n",
              "    }\n",
              "\n",
              "    [theme=dark] .colab-df-convert {\n",
              "      background-color: #3B4455;\n",
              "      fill: #D2E3FC;\n",
              "    }\n",
              "\n",
              "    [theme=dark] .colab-df-convert:hover {\n",
              "      background-color: #434B5C;\n",
              "      box-shadow: 0px 1px 3px 1px rgba(0, 0, 0, 0.15);\n",
              "      filter: drop-shadow(0px 1px 2px rgba(0, 0, 0, 0.3));\n",
              "      fill: #FFFFFF;\n",
              "    }\n",
              "  </style>\n",
              "\n",
              "    <script>\n",
              "      const buttonEl =\n",
              "        document.querySelector('#df-a46052e6-a439-4ae9-be86-87cdea8e1775 button.colab-df-convert');\n",
              "      buttonEl.style.display =\n",
              "        google.colab.kernel.accessAllowed ? 'block' : 'none';\n",
              "\n",
              "      async function convertToInteractive(key) {\n",
              "        const element = document.querySelector('#df-a46052e6-a439-4ae9-be86-87cdea8e1775');\n",
              "        const dataTable =\n",
              "          await google.colab.kernel.invokeFunction('convertToInteractive',\n",
              "                                                    [key], {});\n",
              "        if (!dataTable) return;\n",
              "\n",
              "        const docLinkHtml = 'Like what you see? Visit the ' +\n",
              "          '<a target=\"_blank\" href=https://colab.research.google.com/notebooks/data_table.ipynb>data table notebook</a>'\n",
              "          + ' to learn more about interactive tables.';\n",
              "        element.innerHTML = '';\n",
              "        dataTable['output_type'] = 'display_data';\n",
              "        await google.colab.output.renderOutput(dataTable, element);\n",
              "        const docLink = document.createElement('div');\n",
              "        docLink.innerHTML = docLinkHtml;\n",
              "        element.appendChild(docLink);\n",
              "      }\n",
              "    </script>\n",
              "  </div>\n",
              "\n",
              "\n",
              "    <div id=\"df-4d6d222d-376b-496a-a648-7edb159b05aa\">\n",
              "      <button class=\"colab-df-quickchart\" onclick=\"quickchart('df-4d6d222d-376b-496a-a648-7edb159b05aa')\"\n",
              "                title=\"Suggest charts\"\n",
              "                style=\"display:none;\">\n",
              "\n",
              "<svg xmlns=\"http://www.w3.org/2000/svg\" height=\"24px\"viewBox=\"0 0 24 24\"\n",
              "     width=\"24px\">\n",
              "    <g>\n",
              "        <path d=\"M19 3H5c-1.1 0-2 .9-2 2v14c0 1.1.9 2 2 2h14c1.1 0 2-.9 2-2V5c0-1.1-.9-2-2-2zM9 17H7v-7h2v7zm4 0h-2V7h2v10zm4 0h-2v-4h2v4z\"/>\n",
              "    </g>\n",
              "</svg>\n",
              "      </button>\n",
              "\n",
              "<style>\n",
              "  .colab-df-quickchart {\n",
              "      --bg-color: #E8F0FE;\n",
              "      --fill-color: #1967D2;\n",
              "      --hover-bg-color: #E2EBFA;\n",
              "      --hover-fill-color: #174EA6;\n",
              "      --disabled-fill-color: #AAA;\n",
              "      --disabled-bg-color: #DDD;\n",
              "  }\n",
              "\n",
              "  [theme=dark] .colab-df-quickchart {\n",
              "      --bg-color: #3B4455;\n",
              "      --fill-color: #D2E3FC;\n",
              "      --hover-bg-color: #434B5C;\n",
              "      --hover-fill-color: #FFFFFF;\n",
              "      --disabled-bg-color: #3B4455;\n",
              "      --disabled-fill-color: #666;\n",
              "  }\n",
              "\n",
              "  .colab-df-quickchart {\n",
              "    background-color: var(--bg-color);\n",
              "    border: none;\n",
              "    border-radius: 50%;\n",
              "    cursor: pointer;\n",
              "    display: none;\n",
              "    fill: var(--fill-color);\n",
              "    height: 32px;\n",
              "    padding: 0;\n",
              "    width: 32px;\n",
              "  }\n",
              "\n",
              "  .colab-df-quickchart:hover {\n",
              "    background-color: var(--hover-bg-color);\n",
              "    box-shadow: 0 1px 2px rgba(60, 64, 67, 0.3), 0 1px 3px 1px rgba(60, 64, 67, 0.15);\n",
              "    fill: var(--button-hover-fill-color);\n",
              "  }\n",
              "\n",
              "  .colab-df-quickchart-complete:disabled,\n",
              "  .colab-df-quickchart-complete:disabled:hover {\n",
              "    background-color: var(--disabled-bg-color);\n",
              "    fill: var(--disabled-fill-color);\n",
              "    box-shadow: none;\n",
              "  }\n",
              "\n",
              "  .colab-df-spinner {\n",
              "    border: 2px solid var(--fill-color);\n",
              "    border-color: transparent;\n",
              "    border-bottom-color: var(--fill-color);\n",
              "    animation:\n",
              "      spin 1s steps(1) infinite;\n",
              "  }\n",
              "\n",
              "  @keyframes spin {\n",
              "    0% {\n",
              "      border-color: transparent;\n",
              "      border-bottom-color: var(--fill-color);\n",
              "      border-left-color: var(--fill-color);\n",
              "    }\n",
              "    20% {\n",
              "      border-color: transparent;\n",
              "      border-left-color: var(--fill-color);\n",
              "      border-top-color: var(--fill-color);\n",
              "    }\n",
              "    30% {\n",
              "      border-color: transparent;\n",
              "      border-left-color: var(--fill-color);\n",
              "      border-top-color: var(--fill-color);\n",
              "      border-right-color: var(--fill-color);\n",
              "    }\n",
              "    40% {\n",
              "      border-color: transparent;\n",
              "      border-right-color: var(--fill-color);\n",
              "      border-top-color: var(--fill-color);\n",
              "    }\n",
              "    60% {\n",
              "      border-color: transparent;\n",
              "      border-right-color: var(--fill-color);\n",
              "    }\n",
              "    80% {\n",
              "      border-color: transparent;\n",
              "      border-right-color: var(--fill-color);\n",
              "      border-bottom-color: var(--fill-color);\n",
              "    }\n",
              "    90% {\n",
              "      border-color: transparent;\n",
              "      border-bottom-color: var(--fill-color);\n",
              "    }\n",
              "  }\n",
              "</style>\n",
              "\n",
              "      <script>\n",
              "        async function quickchart(key) {\n",
              "          const quickchartButtonEl =\n",
              "            document.querySelector('#' + key + ' button');\n",
              "          quickchartButtonEl.disabled = true;  // To prevent multiple clicks.\n",
              "          quickchartButtonEl.classList.add('colab-df-spinner');\n",
              "          try {\n",
              "            const charts = await google.colab.kernel.invokeFunction(\n",
              "                'suggestCharts', [key], {});\n",
              "          } catch (error) {\n",
              "            console.error('Error during call to suggestCharts:', error);\n",
              "          }\n",
              "          quickchartButtonEl.classList.remove('colab-df-spinner');\n",
              "          quickchartButtonEl.classList.add('colab-df-quickchart-complete');\n",
              "        }\n",
              "        (() => {\n",
              "          let quickchartButtonEl =\n",
              "            document.querySelector('#df-4d6d222d-376b-496a-a648-7edb159b05aa button');\n",
              "          quickchartButtonEl.style.display =\n",
              "            google.colab.kernel.accessAllowed ? 'block' : 'none';\n",
              "        })();\n",
              "      </script>\n",
              "    </div>\n",
              "\n",
              "  <div id=\"id_57fb08b0-11e8-465e-8173-78a781c6b710\">\n",
              "    <style>\n",
              "      .colab-df-generate {\n",
              "        background-color: #E8F0FE;\n",
              "        border: none;\n",
              "        border-radius: 50%;\n",
              "        cursor: pointer;\n",
              "        display: none;\n",
              "        fill: #1967D2;\n",
              "        height: 32px;\n",
              "        padding: 0 0 0 0;\n",
              "        width: 32px;\n",
              "      }\n",
              "\n",
              "      .colab-df-generate:hover {\n",
              "        background-color: #E2EBFA;\n",
              "        box-shadow: 0px 1px 2px rgba(60, 64, 67, 0.3), 0px 1px 3px 1px rgba(60, 64, 67, 0.15);\n",
              "        fill: #174EA6;\n",
              "      }\n",
              "\n",
              "      [theme=dark] .colab-df-generate {\n",
              "        background-color: #3B4455;\n",
              "        fill: #D2E3FC;\n",
              "      }\n",
              "\n",
              "      [theme=dark] .colab-df-generate:hover {\n",
              "        background-color: #434B5C;\n",
              "        box-shadow: 0px 1px 3px 1px rgba(0, 0, 0, 0.15);\n",
              "        filter: drop-shadow(0px 1px 2px rgba(0, 0, 0, 0.3));\n",
              "        fill: #FFFFFF;\n",
              "      }\n",
              "    </style>\n",
              "    <button class=\"colab-df-generate\" onclick=\"generateWithVariable('df')\"\n",
              "            title=\"Generate code using this dataframe.\"\n",
              "            style=\"display:none;\">\n",
              "\n",
              "  <svg xmlns=\"http://www.w3.org/2000/svg\" height=\"24px\"viewBox=\"0 0 24 24\"\n",
              "       width=\"24px\">\n",
              "    <path d=\"M7,19H8.4L18.45,9,17,7.55,7,17.6ZM5,21V16.75L18.45,3.32a2,2,0,0,1,2.83,0l1.4,1.43a1.91,1.91,0,0,1,.58,1.4,1.91,1.91,0,0,1-.58,1.4L9.25,21ZM18.45,9,17,7.55Zm-12,3A5.31,5.31,0,0,0,4.9,8.1,5.31,5.31,0,0,0,1,6.5,5.31,5.31,0,0,0,4.9,4.9,5.31,5.31,0,0,0,6.5,1,5.31,5.31,0,0,0,8.1,4.9,5.31,5.31,0,0,0,12,6.5,5.46,5.46,0,0,0,6.5,12Z\"/>\n",
              "  </svg>\n",
              "    </button>\n",
              "    <script>\n",
              "      (() => {\n",
              "      const buttonEl =\n",
              "        document.querySelector('#id_57fb08b0-11e8-465e-8173-78a781c6b710 button.colab-df-generate');\n",
              "      buttonEl.style.display =\n",
              "        google.colab.kernel.accessAllowed ? 'block' : 'none';\n",
              "\n",
              "      buttonEl.onclick = () => {\n",
              "        google.colab.notebook.generateWithVariable('df');\n",
              "      }\n",
              "      })();\n",
              "    </script>\n",
              "  </div>\n",
              "\n",
              "    </div>\n",
              "  </div>\n"
            ],
            "application/vnd.google.colaboratory.intrinsic+json": {
              "type": "dataframe",
              "variable_name": "df"
            }
          },
          "metadata": {},
          "execution_count": 226
        }
      ],
      "source": [
        "from google.colab import drive\n",
        "drive.mount(\"/content/drive\")\n",
        "import pandas as pd\n",
        "import numpy as np\n",
        "df = pd.read_csv(\"/content/drive/My Drive/Colab Notebooks/customer_churn.csv\")\n",
        "df"
      ]
    },
    {
      "cell_type": "markdown",
      "source": [
        "##**Customer Churn Analysis:** Visualizing Tenure's Impact and as well monthly charges impact"
      ],
      "metadata": {
        "id": "kEDpFzqd11uw"
      }
    },
    {
      "cell_type": "code",
      "source": [
        "tenure_churn_yes = df[df[\"Churn\"] == \"Yes\"].tenure\n",
        "tenure_churn_no = df[df[\"Churn\"] == \"No\"].tenure\n",
        "\n",
        "import matplotlib.pyplot as plt\n",
        "%matplotlib inline\n",
        "\n",
        "print(\"Customer With Short Tenure Seems To Stay With The Business Than Higher Once\")\n",
        "\n",
        "plt.hist([tenure_churn_yes, tenure_churn_no], color=[\"green\", \"red\"], label=[\"Customers staying\", \"Customers Leaving\"])\n",
        "plt.xlabel(\"Tenure\")\n",
        "plt.ylabel(\"Number of customers\")\n",
        "plt.title(\"Customer churn prediction visualisation\")\n",
        "plt.legend()\n",
        "plt.show()\n",
        "\n",
        "print(\"\\n\")\n",
        "monthlycharge_churn_yes = df[df[\"Churn\"] == \"Yes\"].MonthlyCharges\n",
        "monthlycharge_churn_no = df[df[\"Churn\"] == \"No\"].MonthlyCharges\n",
        "import matplotlib.pyplot as plt\n",
        "%matplotlib inline\n",
        "print(\"\\n\")\n",
        "print(\"As Monthly Charges Increases Customers Tend To Leave The Business\")\n",
        "plt.hist([monthlycharge_churn_yes, monthlycharge_churn_no], color=[\"green\", \"red\"], label=[\"Customers staying\", \"Customers Leaving\"])\n",
        "plt.xlabel(\"Monthly Charges\")\n",
        "plt.ylabel(\"Number of customers\")\n",
        "plt.title(\"Customer churn prediction visualisation\")\n",
        "plt.legend()\n",
        "plt.show()"
      ],
      "metadata": {
        "colab": {
          "base_uri": "https://localhost:8080/",
          "height": 1000
        },
        "id": "JLWNVDPhIowe",
        "outputId": "ea9d11b0-ff31-4c9b-830d-120996c88110"
      },
      "execution_count": null,
      "outputs": [
        {
          "output_type": "stream",
          "name": "stdout",
          "text": [
            "Customer With Short Tenure Seems To Stay With The Business Than Higher Once\n"
          ]
        },
        {
          "output_type": "display_data",
          "data": {
            "text/plain": [
              "<Figure size 640x480 with 1 Axes>"
            ],
            "image/png": "[encoded data removed]"
          },
          "metadata": {}
        },
        {
          "output_type": "stream",
          "name": "stdout",
          "text": [
            "\n",
            "\n",
            "\n",
            "\n",
            "As Monthly Charges Increases Customers Tend To Leave The Business\n"
          ]
        },
        {
          "output_type": "display_data",
          "data": {
            "text/plain": [
              "<Figure size 640x480 with 1 Axes>"
            ],
            "image/png": "[encoded data removed]"
          },
          "metadata": {}
        }
      ]
    },
    {
      "cell_type": "markdown",
      "source": [
        "##**Feature Engineering**"
      ],
      "metadata": {
        "id": "7spYiT0G8oMK"
      }
    },
    {
      "cell_type": "code",
      "source": [
        "df[\"MultipleLines\"]= df[\"MultipleLines\"].replace({\"No phone service\":\"No\"})\n",
        "df[\"InternetService\"]  = df[\"InternetService\"].replace({\"No internet service\": \"No\"})\n",
        "df.replace({\"Yes\":1, \"No\":0}, inplace=True)\n",
        "df.replace({\"Male\":1, \"Female\":0}, inplace=True)\n",
        "pd.set_option('display.max_columns', None)\n",
        "\n",
        "df = pd.get_dummies(df, drop_first=True, columns=[\"PaymentMethod\",\"Contract\",\"InternetService\"], dtype=int)\n",
        "\n",
        "object1 = [\"OnlineSecurity\", \"OnlineBackup\", \"DeviceProtection\", \"TechSupport\", \"StreamingTV\", \"StreamingMovies\"]\n",
        "for col in object1:\n",
        "  df[col] = pd.to_numeric(df[col], errors=\"coerce\")\n",
        "\n",
        "df[\"TotalCharges\"] = pd.to_numeric(df[\"TotalCharges\"], errors=\"coerce\")\n",
        "df.dropna(inplace=True)\n"
      ],
      "metadata": {
        "colab": {
          "base_uri": "https://localhost:8080/"
        },
        "id": "1DWo-JxlTMte",
        "outputId": "22ed6b71-98bf-4ea2-9c05-cc8d5d6c0a43"
      },
      "execution_count": null,
      "outputs": [
        {
          "output_type": "stream",
          "name": "stderr",
          "text": [
            "/tmp/ipython-input-3704980173.py:3: FutureWarning: Downcasting behavior in `replace` is deprecated and will be removed in a future version. To retain the old behavior, explicitly call `result.infer_objects(copy=False)`. To opt-in to the future behavior, set `pd.set_option('future.no_silent_downcasting', True)`\n",
            "  df.replace({\"Yes\":1, \"No\":0}, inplace=True)\n",
            "/tmp/ipython-input-3704980173.py:4: FutureWarning: Downcasting behavior in `replace` is deprecated and will be removed in a future version. To retain the old behavior, explicitly call `result.infer_objects(copy=False)`. To opt-in to the future behavior, set `pd.set_option('future.no_silent_downcasting', True)`\n",
            "  df.replace({\"Male\":1, \"Female\":0}, inplace=True)\n"
          ]
        }
      ]
    },
    {
      "cell_type": "code",
      "source": [],
      "metadata": {
        "id": "uN8_x1KXFvfQ"
      },
      "execution_count": null,
      "outputs": []
    },
    {
      "cell_type": "code",
      "metadata": {
        "colab": {
          "base_uri": "https://localhost:8080/"
        },
        "id": "1458488c",
        "outputId": "7eadc46a-3190-440e-d920-b12762b6e3fc"
      },
      "source": [
        "#Checking to see if there is duplicates or Null values\n",
        "print(f\"Null_values: {df.isna().sum()}\")\n",
        "print(\"\\n\")\n",
        "print(f\"Duplicate values: {df.duplicated().sum()}\")"
      ],
      "execution_count": null,
      "outputs": [
        {
          "output_type": "stream",
          "name": "stdout",
          "text": [
            "Null_values: customerID                               0\n",
            "gender                                   0\n",
            "SeniorCitizen                            0\n",
            "Partner                                  0\n",
            "Dependents                               0\n",
            "tenure                                   0\n",
            "PhoneService                             0\n",
            "MultipleLines                            0\n",
            "OnlineSecurity                           0\n",
            "OnlineBackup                             0\n",
            "DeviceProtection                         0\n",
            "TechSupport                              0\n",
            "StreamingTV                              0\n",
            "StreamingMovies                          0\n",
            "PaperlessBilling                         0\n",
            "MonthlyCharges                           0\n",
            "TotalCharges                             0\n",
            "Churn                                    0\n",
            "PaymentMethod_Credit card (automatic)    0\n",
            "PaymentMethod_Electronic check           0\n",
            "PaymentMethod_Mailed check               0\n",
            "Contract_One year                        0\n",
            "Contract_Two year                        0\n",
            "InternetService_DSL                      0\n",
            "InternetService_Fiber optic              0\n",
            "dtype: int64\n",
            "\n",
            "\n",
            "Duplicate values: 0\n"
          ]
        }
      ]
    },
    {
      "cell_type": "code",
      "source": [
        "\n",
        "x = df.drop(columns=[\"customerID\",\"Churn\"])\n",
        "y = df[\"Churn\"]"
      ],
      "metadata": {
        "id": "9XVmzmrAIo8A"
      },
      "execution_count": null,
      "outputs": []
    },
    {
      "cell_type": "markdown",
      "source": [
        "##**I noticed the target variable is imbalanced**"
      ],
      "metadata": {
        "id": "toQ24kJ89Jrg"
      }
    },
    {
      "cell_type": "code",
      "source": [
        "#inbalanced target features\n",
        "y.value_counts()"
      ],
      "metadata": {
        "colab": {
          "base_uri": "https://localhost:8080/",
          "height": 178
        },
        "id": "NIVB8iBpjkPt",
        "outputId": "7276a7bd-ce52-4032-98f8-d99e1117453c"
      },
      "execution_count": null,
      "outputs": [
        {
          "output_type": "execute_result",
          "data": {
            "text/plain": [
              "Churn\n",
              "0    3756\n",
              "1    1756\n",
              "Name: count, dtype: int64"
            ],
            "text/html": [
              "<div>\n",
              "<style scoped>\n",
              "    .dataframe tbody tr th:only-of-type {\n",
              "        vertical-align: middle;\n",
              "    }\n",
              "\n",
              "    .dataframe tbody tr th {\n",
              "        vertical-align: top;\n",
              "    }\n",
              "\n",
              "    .dataframe thead th {\n",
              "        text-align: right;\n",
              "    }\n",
              "</style>\n",
              "<table border=\"1\" class=\"dataframe\">\n",
              "  <thead>\n",
              "    <tr style=\"text-align: right;\">\n",
              "      <th></th>\n",
              "      <th>count</th>\n",
              "    </tr>\n",
              "    <tr>\n",
              "      <th>Churn</th>\n",
              "      <th></th>\n",
              "    </tr>\n",
              "  </thead>\n",
              "  <tbody>\n",
              "    <tr>\n",
              "      <th>0</th>\n",
              "      <td>3756</td>\n",
              "    </tr>\n",
              "    <tr>\n",
              "      <th>1</th>\n",
              "      <td>1756</td>\n",
              "    </tr>\n",
              "  </tbody>\n",
              "</table>\n",
              "</div><br><label><b>dtype:</b> int64</label>"
            ]
          },
          "metadata": {},
          "execution_count": 231
        }
      ]
    },
    {
      "cell_type": "markdown",
      "source": [
        "##**Fixing imbalance using Oversampling method**"
      ],
      "metadata": {
        "id": "ZmFRS31N-ufQ"
      }
    },
    {
      "cell_type": "code",
      "source": [
        "from imblearn.over_sampling import SMOTE\n",
        "\n",
        "smote = SMOTE(random_state=42)\n",
        "x_res, y_res = smote.fit_resample(x, y)\n",
        "\n",
        "x = x_res\n",
        "y = y_res"
      ],
      "metadata": {
        "id": "AoenLMFa-ZK4"
      },
      "execution_count": null,
      "outputs": []
    },
    {
      "cell_type": "markdown",
      "source": [
        "##**Verifying to see if my target variable dataset are balanced**"
      ],
      "metadata": {
        "id": "r98D2D5RGDSF"
      }
    },
    {
      "cell_type": "code",
      "source": [
        "y.value_counts()"
      ],
      "metadata": {
        "colab": {
          "base_uri": "https://localhost:8080/",
          "height": 178
        },
        "id": "swzqVDXB-8Ik",
        "outputId": "5954b0b9-6908-4c26-e30d-1226b3d18959"
      },
      "execution_count": null,
      "outputs": [
        {
          "output_type": "execute_result",
          "data": {
            "text/plain": [
              "Churn\n",
              "0    3756\n",
              "1    3756\n",
              "Name: count, dtype: int64"
            ],
            "text/html": [
              "<div>\n",
              "<style scoped>\n",
              "    .dataframe tbody tr th:only-of-type {\n",
              "        vertical-align: middle;\n",
              "    }\n",
              "\n",
              "    .dataframe tbody tr th {\n",
              "        vertical-align: top;\n",
              "    }\n",
              "\n",
              "    .dataframe thead th {\n",
              "        text-align: right;\n",
              "    }\n",
              "</style>\n",
              "<table border=\"1\" class=\"dataframe\">\n",
              "  <thead>\n",
              "    <tr style=\"text-align: right;\">\n",
              "      <th></th>\n",
              "      <th>count</th>\n",
              "    </tr>\n",
              "    <tr>\n",
              "      <th>Churn</th>\n",
              "      <th></th>\n",
              "    </tr>\n",
              "  </thead>\n",
              "  <tbody>\n",
              "    <tr>\n",
              "      <th>0</th>\n",
              "      <td>3756</td>\n",
              "    </tr>\n",
              "    <tr>\n",
              "      <th>1</th>\n",
              "      <td>3756</td>\n",
              "    </tr>\n",
              "  </tbody>\n",
              "</table>\n",
              "</div><br><label><b>dtype:</b> int64</label>"
            ]
          },
          "metadata": {},
          "execution_count": 233
        }
      ]
    },
    {
      "cell_type": "markdown",
      "source": [
        "##**Model Preparation: Spliting into train/test sets to evaluate performance.**"
      ],
      "metadata": {
        "id": "9TNDBzR0GSwY"
      }
    },
    {
      "cell_type": "code",
      "source": [
        "from sklearn.model_selection import train_test_split\n",
        "x_train, x_test, y_train, y_test = train_test_split(x, y, test_size=0.2, stratify=y)"
      ],
      "metadata": {
        "id": "YQ4j4R4MIpH9"
      },
      "execution_count": null,
      "outputs": []
    },
    {
      "cell_type": "markdown",
      "source": [
        "##**Scaling features Using MinMaxScaler**"
      ],
      "metadata": {
        "id": "00borkenGjz_"
      }
    },
    {
      "cell_type": "code",
      "source": [
        "from sklearn.preprocessing import MinMaxScaler\n",
        "scale = MinMaxScaler()\n",
        "large = [\"tenure\",\"MonthlyCharges\",\"TotalCharges\"]\n",
        "x_train[large] = scale.fit_transform(x_train[large])\n",
        "x_test[large] = scale.fit_transform(x_test[large])"
      ],
      "metadata": {
        "id": "ronRrdReIpCb"
      },
      "execution_count": null,
      "outputs": []
    },
    {
      "cell_type": "markdown",
      "source": [
        "##**Model Building: training ANN (Deep Learning) Model**"
      ],
      "metadata": {
        "id": "Lwpu1ZPfGvf-"
      }
    },
    {
      "cell_type": "code",
      "source": [
        "import tensorflow as tf\n",
        "from tensorflow import keras\n",
        "from tensorflow.keras import Sequential\n",
        "from tensorflow.keras.layers import Dense, Flatten\n",
        "\n",
        "model = Sequential([Dense(20, input_shape=(23,), activation=\"relu\"),\n",
        "                    Dense(1, activation=\"sigmoid\")\n",
        "])\n",
        "\n",
        "model.compile(optimizer=\"adam\", loss=\"binary_crossentropy\", metrics=[\"accuracy\"])\n",
        "\n",
        "model.fit(x_train, y_train, epochs=50)"
      ],
      "metadata": {
        "id": "2gGg2hvAIpOH",
        "colab": {
          "base_uri": "https://localhost:8080/"
        },
        "outputId": "3274e784-3f78-474e-eb92-3611ea693cc9"
      },
      "execution_count": null,
      "outputs": [
        {
          "output_type": "stream",
          "name": "stdout",
          "text": [
            "Epoch 1/50\n"
          ]
        },
        {
          "output_type": "stream",
          "name": "stderr",
          "text": [
            "/usr/local/lib/python3.12/dist-packages/keras/src/layers/core/dense.py:93: UserWarning: Do not pass an `input_shape`/`input_dim` argument to a layer. When using Sequential models, prefer using an `Input(shape)` object as the first layer in the model instead.\n",
            "  super().__init__(activity_regularizer=activity_regularizer, **kwargs)\n"
          ]
        },
        {
          "output_type": "stream",
          "name": "stdout",
          "text": [
            "\u001b[1m188/188\u001b[0m \u001b[32m━━━━━━━━━━━━━━━━━━━━\u001b[0m\u001b[37m\u001b[0m \u001b[1m1s\u001b[0m 2ms/step - accuracy: 0.5937 - loss: 0.6542\n",
            "Epoch 2/50\n",
            "\u001b[1m188/188\u001b[0m \u001b[32m━━━━━━━━━━━━━━━━━━━━\u001b[0m\u001b[37m\u001b[0m \u001b[1m0s\u001b[0m 2ms/step - accuracy: 0.7501 - loss: 0.5209\n",
            "Epoch 3/50\n",
            "\u001b[1m188/188\u001b[0m \u001b[32m━━━━━━━━━━━━━━━━━━━━\u001b[0m\u001b[37m\u001b[0m \u001b[1m0s\u001b[0m 2ms/step - accuracy: 0.7609 - loss: 0.4936\n",
            "Epoch 4/50\n",
            "\u001b[1m188/188\u001b[0m \u001b[32m━━━━━━━━━━━━━━━━━━━━\u001b[0m\u001b[37m\u001b[0m \u001b[1m1s\u001b[0m 3ms/step - accuracy: 0.7779 - loss: 0.4729\n",
            "Epoch 5/50\n",
            "\u001b[1m188/188\u001b[0m \u001b[32m━━━━━━━━━━━━━━━━━━━━\u001b[0m\u001b[37m\u001b[0m \u001b[1m1s\u001b[0m 3ms/step - accuracy: 0.7712 - loss: 0.4804\n",
            "Epoch 6/50\n",
            "\u001b[1m188/188\u001b[0m \u001b[32m━━━━━━━━━━━━━━━━━━━━\u001b[0m\u001b[37m\u001b[0m \u001b[1m1s\u001b[0m 3ms/step - accuracy: 0.7823 - loss: 0.4719\n",
            "Epoch 7/50\n",
            "\u001b[1m188/188\u001b[0m \u001b[32m━━━━━━━━━━━━━━━━━━━━\u001b[0m\u001b[37m\u001b[0m \u001b[1m1s\u001b[0m 3ms/step - accuracy: 0.7881 - loss: 0.4583\n",
            "Epoch 8/50\n",
            "\u001b[1m188/188\u001b[0m \u001b[32m━━━━━━━━━━━━━━━━━━━━\u001b[0m\u001b[37m\u001b[0m \u001b[1m1s\u001b[0m 3ms/step - accuracy: 0.7711 - loss: 0.4675\n",
            "Epoch 9/50\n",
            "\u001b[1m188/188\u001b[0m \u001b[32m━━━━━━━━━━━━━━━━━━━━\u001b[0m\u001b[37m\u001b[0m \u001b[1m1s\u001b[0m 5ms/step - accuracy: 0.7897 - loss: 0.4518\n",
            "Epoch 10/50\n",
            "\u001b[1m188/188\u001b[0m \u001b[32m━━━━━━━━━━━━━━━━━━━━\u001b[0m\u001b[37m\u001b[0m \u001b[1m0s\u001b[0m 2ms/step - accuracy: 0.7863 - loss: 0.4576\n",
            "Epoch 11/50\n",
            "\u001b[1m188/188\u001b[0m \u001b[32m━━━━━━━━━━━━━━━━━━━━\u001b[0m\u001b[37m\u001b[0m \u001b[1m0s\u001b[0m 2ms/step - accuracy: 0.7890 - loss: 0.4567\n",
            "Epoch 12/50\n",
            "\u001b[1m188/188\u001b[0m \u001b[32m━━━━━━━━━━━━━━━━━━━━\u001b[0m\u001b[37m\u001b[0m \u001b[1m0s\u001b[0m 2ms/step - accuracy: 0.7831 - loss: 0.4633\n",
            "Epoch 13/50\n",
            "\u001b[1m188/188\u001b[0m \u001b[32m━━━━━━━━━━━━━━━━━━━━\u001b[0m\u001b[37m\u001b[0m \u001b[1m0s\u001b[0m 2ms/step - accuracy: 0.7810 - loss: 0.4678\n",
            "Epoch 14/50\n",
            "\u001b[1m188/188\u001b[0m \u001b[32m━━━━━━━━━━━━━━━━━━━━\u001b[0m\u001b[37m\u001b[0m \u001b[1m0s\u001b[0m 2ms/step - accuracy: 0.7846 - loss: 0.4621\n",
            "Epoch 15/50\n",
            "\u001b[1m188/188\u001b[0m \u001b[32m━━━━━━━━━━━━━━━━━━━━\u001b[0m\u001b[37m\u001b[0m \u001b[1m0s\u001b[0m 2ms/step - accuracy: 0.7865 - loss: 0.4534\n",
            "Epoch 16/50\n",
            "\u001b[1m188/188\u001b[0m \u001b[32m━━━━━━━━━━━━━━━━━━━━\u001b[0m\u001b[37m\u001b[0m \u001b[1m0s\u001b[0m 2ms/step - accuracy: 0.7897 - loss: 0.4507\n",
            "Epoch 17/50\n",
            "\u001b[1m188/188\u001b[0m \u001b[32m━━━━━━━━━━━━━━━━━━━━\u001b[0m\u001b[37m\u001b[0m \u001b[1m1s\u001b[0m 2ms/step - accuracy: 0.7893 - loss: 0.4526\n",
            "Epoch 18/50\n",
            "\u001b[1m188/188\u001b[0m \u001b[32m━━━━━━━━━━━━━━━━━━━━\u001b[0m\u001b[37m\u001b[0m \u001b[1m0s\u001b[0m 2ms/step - accuracy: 0.7968 - loss: 0.4432\n",
            "Epoch 19/50\n",
            "\u001b[1m188/188\u001b[0m \u001b[32m━━━━━━━━━━━━━━━━━━━━\u001b[0m\u001b[37m\u001b[0m \u001b[1m0s\u001b[0m 2ms/step - accuracy: 0.8015 - loss: 0.4398\n",
            "Epoch 20/50\n",
            "\u001b[1m188/188\u001b[0m \u001b[32m━━━━━━━━━━━━━━━━━━━━\u001b[0m\u001b[37m\u001b[0m \u001b[1m0s\u001b[0m 2ms/step - accuracy: 0.7934 - loss: 0.4407\n",
            "Epoch 21/50\n",
            "\u001b[1m188/188\u001b[0m \u001b[32m━━━━━━━━━━━━━━━━━━━━\u001b[0m\u001b[37m\u001b[0m \u001b[1m0s\u001b[0m 2ms/step - accuracy: 0.7869 - loss: 0.4585\n",
            "Epoch 22/50\n",
            "\u001b[1m188/188\u001b[0m \u001b[32m━━━━━━━━━━━━━━━━━━━━\u001b[0m\u001b[37m\u001b[0m \u001b[1m0s\u001b[0m 2ms/step - accuracy: 0.7835 - loss: 0.4524\n",
            "Epoch 23/50\n",
            "\u001b[1m188/188\u001b[0m \u001b[32m━━━━━━━━━━━━━━━━━━━━\u001b[0m\u001b[37m\u001b[0m \u001b[1m0s\u001b[0m 2ms/step - accuracy: 0.7909 - loss: 0.4535\n",
            "Epoch 24/50\n",
            "\u001b[1m188/188\u001b[0m \u001b[32m━━━━━━━━━━━━━━━━━━━━\u001b[0m\u001b[37m\u001b[0m \u001b[1m0s\u001b[0m 2ms/step - accuracy: 0.7917 - loss: 0.4452\n",
            "Epoch 25/50\n",
            "\u001b[1m188/188\u001b[0m \u001b[32m━━━━━━━━━━━━━━━━━━━━\u001b[0m\u001b[37m\u001b[0m \u001b[1m0s\u001b[0m 2ms/step - accuracy: 0.7884 - loss: 0.4450\n",
            "Epoch 26/50\n",
            "\u001b[1m188/188\u001b[0m \u001b[32m━━━━━━━━━━━━━━━━━━━━\u001b[0m\u001b[37m\u001b[0m \u001b[1m0s\u001b[0m 2ms/step - accuracy: 0.7855 - loss: 0.4462\n",
            "Epoch 27/50\n",
            "\u001b[1m188/188\u001b[0m \u001b[32m━━━━━━━━━━━━━━━━━━━━\u001b[0m\u001b[37m\u001b[0m \u001b[1m0s\u001b[0m 2ms/step - accuracy: 0.7902 - loss: 0.4468\n",
            "Epoch 28/50\n",
            "\u001b[1m188/188\u001b[0m \u001b[32m━━━━━━━━━━━━━━━━━━━━\u001b[0m\u001b[37m\u001b[0m \u001b[1m0s\u001b[0m 2ms/step - accuracy: 0.7898 - loss: 0.4512\n",
            "Epoch 29/50\n",
            "\u001b[1m188/188\u001b[0m \u001b[32m━━━━━━━━━━━━━━━━━━━━\u001b[0m\u001b[37m\u001b[0m \u001b[1m0s\u001b[0m 2ms/step - accuracy: 0.7918 - loss: 0.4393\n",
            "Epoch 30/50\n",
            "\u001b[1m188/188\u001b[0m \u001b[32m━━━━━━━━━━━━━━━━━━━━\u001b[0m\u001b[37m\u001b[0m \u001b[1m1s\u001b[0m 2ms/step - accuracy: 0.7873 - loss: 0.4520\n",
            "Epoch 31/50\n",
            "\u001b[1m188/188\u001b[0m \u001b[32m━━━━━━━━━━━━━━━━━━━━\u001b[0m\u001b[37m\u001b[0m \u001b[1m0s\u001b[0m 2ms/step - accuracy: 0.8017 - loss: 0.4344\n",
            "Epoch 32/50\n",
            "\u001b[1m188/188\u001b[0m \u001b[32m━━━━━━━━━━━━━━━━━━━━\u001b[0m\u001b[37m\u001b[0m \u001b[1m1s\u001b[0m 4ms/step - accuracy: 0.7855 - loss: 0.4468\n",
            "Epoch 33/50\n",
            "\u001b[1m188/188\u001b[0m \u001b[32m━━━━━━━━━━━━━━━━━━━━\u001b[0m\u001b[37m\u001b[0m \u001b[1m2s\u001b[0m 8ms/step - accuracy: 0.7955 - loss: 0.4411\n",
            "Epoch 34/50\n",
            "\u001b[1m188/188\u001b[0m \u001b[32m━━━━━━━━━━━━━━━━━━━━\u001b[0m\u001b[37m\u001b[0m \u001b[1m1s\u001b[0m 2ms/step - accuracy: 0.7994 - loss: 0.4355\n",
            "Epoch 35/50\n",
            "\u001b[1m188/188\u001b[0m \u001b[32m━━━━━━━━━━━━━━━━━━━━\u001b[0m\u001b[37m\u001b[0m \u001b[1m0s\u001b[0m 2ms/step - accuracy: 0.8018 - loss: 0.4306\n",
            "Epoch 36/50\n",
            "\u001b[1m188/188\u001b[0m \u001b[32m━━━━━━━━━━━━━━━━━━━━\u001b[0m\u001b[37m\u001b[0m \u001b[1m0s\u001b[0m 2ms/step - accuracy: 0.7983 - loss: 0.4301\n",
            "Epoch 37/50\n",
            "\u001b[1m188/188\u001b[0m \u001b[32m━━━━━━━━━━━━━━━━━━━━\u001b[0m\u001b[37m\u001b[0m \u001b[1m0s\u001b[0m 2ms/step - accuracy: 0.7941 - loss: 0.4357\n",
            "Epoch 38/50\n",
            "\u001b[1m188/188\u001b[0m \u001b[32m━━━━━━━━━━━━━━━━━━━━\u001b[0m\u001b[37m\u001b[0m \u001b[1m0s\u001b[0m 2ms/step - accuracy: 0.7922 - loss: 0.4358\n",
            "Epoch 39/50\n",
            "\u001b[1m188/188\u001b[0m \u001b[32m━━━━━━━━━━━━━━━━━━━━\u001b[0m\u001b[37m\u001b[0m \u001b[1m0s\u001b[0m 2ms/step - accuracy: 0.7942 - loss: 0.4493\n",
            "Epoch 40/50\n",
            "\u001b[1m188/188\u001b[0m \u001b[32m━━━━━━━━━━━━━━━━━━━━\u001b[0m\u001b[37m\u001b[0m \u001b[1m0s\u001b[0m 2ms/step - accuracy: 0.7980 - loss: 0.4342\n",
            "Epoch 41/50\n",
            "\u001b[1m188/188\u001b[0m \u001b[32m━━━━━━━━━━━━━━━━━━━━\u001b[0m\u001b[37m\u001b[0m \u001b[1m0s\u001b[0m 2ms/step - accuracy: 0.8006 - loss: 0.4324\n",
            "Epoch 42/50\n",
            "\u001b[1m188/188\u001b[0m \u001b[32m━━━━━━━━━━━━━━━━━━━━\u001b[0m\u001b[37m\u001b[0m \u001b[1m0s\u001b[0m 2ms/step - accuracy: 0.8012 - loss: 0.4256\n",
            "Epoch 43/50\n",
            "\u001b[1m188/188\u001b[0m \u001b[32m━━━━━━━━━━━━━━━━━━━━\u001b[0m\u001b[37m\u001b[0m \u001b[1m0s\u001b[0m 2ms/step - accuracy: 0.8075 - loss: 0.4126\n",
            "Epoch 44/50\n",
            "\u001b[1m188/188\u001b[0m \u001b[32m━━━━━━━━━━━━━━━━━━━━\u001b[0m\u001b[37m\u001b[0m \u001b[1m0s\u001b[0m 2ms/step - accuracy: 0.7878 - loss: 0.4429\n",
            "Epoch 45/50\n",
            "\u001b[1m188/188\u001b[0m \u001b[32m━━━━━━━━━━━━━━━━━━━━\u001b[0m\u001b[37m\u001b[0m \u001b[1m0s\u001b[0m 2ms/step - accuracy: 0.8080 - loss: 0.4242\n",
            "Epoch 46/50\n",
            "\u001b[1m188/188\u001b[0m \u001b[32m━━━━━━━━━━━━━━━━━━━━\u001b[0m\u001b[37m\u001b[0m \u001b[1m0s\u001b[0m 2ms/step - accuracy: 0.7943 - loss: 0.4331\n",
            "Epoch 47/50\n",
            "\u001b[1m188/188\u001b[0m \u001b[32m━━━━━━━━━━━━━━━━━━━━\u001b[0m\u001b[37m\u001b[0m \u001b[1m0s\u001b[0m 2ms/step - accuracy: 0.8062 - loss: 0.4176\n",
            "Epoch 48/50\n",
            "\u001b[1m188/188\u001b[0m \u001b[32m━━━━━━━━━━━━━━━━━━━━\u001b[0m\u001b[37m\u001b[0m \u001b[1m0s\u001b[0m 2ms/step - accuracy: 0.8016 - loss: 0.4300\n",
            "Epoch 49/50\n",
            "\u001b[1m188/188\u001b[0m \u001b[32m━━━━━━━━━━━━━━━━━━━━\u001b[0m\u001b[37m\u001b[0m \u001b[1m0s\u001b[0m 2ms/step - accuracy: 0.8003 - loss: 0.4255\n",
            "Epoch 50/50\n",
            "\u001b[1m188/188\u001b[0m \u001b[32m━━━━━━━━━━━━━━━━━━━━\u001b[0m\u001b[37m\u001b[0m \u001b[1m0s\u001b[0m 2ms/step - accuracy: 0.7927 - loss: 0.4403\n"
          ]
        },
        {
          "output_type": "execute_result",
          "data": {
            "text/plain": [
              "<keras.src.callbacks.history.History at 0x7e36fef6e300>"
            ]
          },
          "metadata": {},
          "execution_count": 237
        }
      ]
    },
    {
      "cell_type": "markdown",
      "source": [
        "##**Model score**"
      ],
      "metadata": {
        "id": "o96hKt86I3CP"
      }
    },
    {
      "cell_type": "code",
      "source": [
        "model.evaluate(x_test, y_test)"
      ],
      "metadata": {
        "id": "Dm39TWvUIpUG",
        "colab": {
          "base_uri": "https://localhost:8080/"
        },
        "outputId": "79ec2833-5143-4d85-fed6-081b73689cef"
      },
      "execution_count": null,
      "outputs": [
        {
          "output_type": "stream",
          "name": "stdout",
          "text": [
            "\u001b[1m47/47\u001b[0m \u001b[32m━━━━━━━━━━━━━━━━━━━━\u001b[0m\u001b[37m\u001b[0m \u001b[1m0s\u001b[0m 2ms/step - accuracy: 0.7876 - loss: 0.4437\n"
          ]
        },
        {
          "output_type": "execute_result",
          "data": {
            "text/plain": [
              "[0.43866896629333496, 0.796407163143158]"
            ]
          },
          "metadata": {},
          "execution_count": 238
        }
      ]
    },
    {
      "cell_type": "code",
      "source": [
        "from sklearn.metrics import confusion_matrix, classification_report\n",
        "y_pred = model.predict(x_test)\n",
        "y_pred = np.round(y_pred)"
      ],
      "metadata": {
        "colab": {
          "base_uri": "https://localhost:8080/"
        },
        "id": "aMedKUQtxo8F",
        "outputId": "f5dd44d6-ec6a-4f57-90ed-e5e10db89dac"
      },
      "execution_count": null,
      "outputs": [
        {
          "output_type": "stream",
          "name": "stdout",
          "text": [
            "\u001b[1m47/47\u001b[0m \u001b[32m━━━━━━━━━━━━━━━━━━━━\u001b[0m\u001b[37m\u001b[0m \u001b[1m0s\u001b[0m 1ms/step \n"
          ]
        }
      ]
    },
    {
      "cell_type": "markdown",
      "source": [
        "##**Classification report: Accuracy / F1-Score | 80%**"
      ],
      "metadata": {
        "id": "-2kDimQJJEsc"
      }
    },
    {
      "cell_type": "code",
      "source": [
        "Cr = classification_report(y_test, y_pred)\n",
        "print(Cr)"
      ],
      "metadata": {
        "colab": {
          "base_uri": "https://localhost:8080/"
        },
        "id": "otJx_Kffxopw",
        "outputId": "749497af-43cc-4be6-e09a-cbd1dceedd4e"
      },
      "execution_count": null,
      "outputs": [
        {
          "output_type": "stream",
          "name": "stdout",
          "text": [
            "              precision    recall  f1-score   support\n",
            "\n",
            "           0       0.82      0.76      0.79       752\n",
            "           1       0.78      0.83      0.80       751\n",
            "\n",
            "    accuracy                           0.80      1503\n",
            "   macro avg       0.80      0.80      0.80      1503\n",
            "weighted avg       0.80      0.80      0.80      1503\n",
            "\n"
          ]
        }
      ]
    },
    {
      "cell_type": "markdown",
      "source": [
        "##**visualising using confusion matrix**"
      ],
      "metadata": {
        "id": "JXcq3lCtJSl8"
      }
    },
    {
      "cell_type": "code",
      "source": [
        "cm = confusion_matrix(y_test, y_pred)\n",
        "\n",
        "import seaborn as sns\n",
        "\n",
        "sns.heatmap(cm, annot=True)\n",
        "plt.xlabel(\"Model predicted value\")\n",
        "plt.ylabel(\"Truth Value\")\n",
        "plt.title(\"Confusion Matrix\")\n",
        "plt.show()"
      ],
      "metadata": {
        "id": "b65X9yIHIpa1",
        "colab": {
          "base_uri": "https://localhost:8080/",
          "height": 472
        },
        "outputId": "c2d2d431-644b-4e60-d558-e3f6827b4ac8"
      },
      "execution_count": null,
      "outputs": [
        {
          "output_type": "display_data",
          "data": {
            "text/plain": [
              "<Figure size 640x480 with 2 Axes>"
            ],
            "image/png": "[encoded data removed]"
          },
          "metadata": {}
        }
      ]
    },
    {
      "cell_type": "markdown",
      "source": [
        "##**📊 Model Performance:**\n",
        "The ANN model achieved an evaluation accuracy of 80%, indicating strong performance in identifying customers at risk of churning. The model was trained and evaluated using proper data preprocessing, normalization, and validation techniques to ensure reliability.**\n"
      ],
      "metadata": {
        "id": "OkfmUz_O0Hf7"
      }
    },
    {
      "cell_type": "markdown",
      "source": [
        "##**Conclusion (Deployment Use Case):**\n",
        "When deployed, this model can be integrated into a company’s CRM or analytics system to automatically predict customer churn in real-time. It can help businesses prioritize retention efforts, improve customer satisfaction, and reduce revenue loss by identifying at-risk customers before they leave.\n",
        "\n"
      ],
      "metadata": {
        "id": "2Gg_JMZBWpaF"
      }
    }
  ]
}